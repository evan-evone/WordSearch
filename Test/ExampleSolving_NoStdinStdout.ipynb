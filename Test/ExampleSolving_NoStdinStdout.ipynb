{
 "cells": [
  {
   "cell_type": "code",
   "execution_count": 76,
   "metadata": {},
   "outputs": [
    {
     "name": "stdout",
     "output_type": "stream",
     "text": [
      "[array([3, 4, 5, 6, 7]), array([5, 5, 5, 5, 5])]\n",
      "['[D]' '[A]' '[N]' '[C]' '[E]']\n",
      "[[' K ' ' C ' ' G ' ' B ' ' H ' ' L ' ' B ' ' L ' ' C ' ' T ' ' T ' ' W ']\n",
      " [' F ' ' L ' ' N ' ' K ' ' N ' ' I ' ' N ' ' E ' ' W ' ' N ' ' P ' ' E ']\n",
      " [' R ' ' K ' ' H ' ' A ' ' O ' ' L ' ' Y ' ' L ' ' W ' ' A ' ' S ' ' W ']\n",
      " [' A ' ' M ' ' L ' ' L ' ' M ' '[D]' ' V ' ' J ' ' R ' ' P ' ' J ' ' Y ']\n",
      " [' P ' ' R ' ' O ' ' G ' ' R ' '[A]' ' M ' ' M ' ' I ' ' N ' ' G ' ' A ']\n",
      " [' G ' ' G ' ' J ' ' Z ' ' W ' '[N]' ' Z ' ' L ' ' S ' ' Z ' ' H ' ' H ']\n",
      " [' Y ' ' U ' ' Y ' ' S ' ' E ' '[C]' ' C ' ' Z ' ' D ' ' A ' ' S ' ' H ']\n",
      " [' F ' ' W ' ' L ' ' I ' ' J ' '[E]' ' G ' ' U ' ' I ' ' T ' ' A ' ' R ']\n",
      " [' S ' ' L ' ' E ' ' N ' ' M ' ' S ' ' X ' ' G ' ' A ' ' P ' ' L ' ' E ']\n",
      " [' P ' ' X ' ' X ' ' G ' ' F ' ' S ' ' W ' ' G ' ' Z ' ' O ' ' S ' ' C ']\n",
      " [' U ' ' X ' ' K ' ' Z ' ' Z ' ' U ' ' P ' ' E ' ' K ' ' Y ' ' A ' ' N ']\n",
      " [' O ' ' Z ' ' Q ' ' W ' ' M ' ' X ' ' D ' ' L ' ' N ' ' N ' ' E ' ' B ']]\n",
      "\n",
      "[array([7, 7, 7, 7, 7, 7]), array([ 6,  7,  8,  9, 10, 11])]\n",
      "['[G]' '[U]' '[I]' '[T]' '[A]' '[R]']\n",
      "[[' K ' ' C ' ' G ' ' B ' ' H ' ' L ' ' B ' ' L ' ' C ' ' T ' ' T ' ' W ']\n",
      " [' F ' ' L ' ' N ' ' K ' ' N ' ' I ' ' N ' ' E ' ' W ' ' N ' ' P ' ' E ']\n",
      " [' R ' ' K ' ' H ' ' A ' ' O ' ' L ' ' Y ' ' L ' ' W ' ' A ' ' S ' ' W ']\n",
      " [' A ' ' M ' ' L ' ' L ' ' M ' ' D ' ' V ' ' J ' ' R ' ' P ' ' J ' ' Y ']\n",
      " [' P ' ' R ' ' O ' ' G ' ' R ' ' A ' ' M ' ' M ' ' I ' ' N ' ' G ' ' A ']\n",
      " [' G ' ' G ' ' J ' ' Z ' ' W ' ' N ' ' Z ' ' L ' ' S ' ' Z ' ' H ' ' H ']\n",
      " [' Y ' ' U ' ' Y ' ' S ' ' E ' ' C ' ' C ' ' Z ' ' D ' ' A ' ' S ' ' H ']\n",
      " [' F ' ' W ' ' L ' ' I ' ' J ' ' E ' '[G]' '[U]' '[I]' '[T]' '[A]' '[R]']\n",
      " [' S ' ' L ' ' E ' ' N ' ' M ' ' S ' ' X ' ' G ' ' A ' ' P ' ' L ' ' E ']\n",
      " [' P ' ' X ' ' X ' ' G ' ' F ' ' S ' ' W ' ' G ' ' Z ' ' O ' ' S ' ' C ']\n",
      " [' U ' ' X ' ' K ' ' Z ' ' Z ' ' U ' ' P ' ' E ' ' K ' ' Y ' ' A ' ' N ']\n",
      " [' O ' ' Z ' ' Q ' ' W ' ' M ' ' X ' ' D ' ' L ' ' N ' ' N ' ' E ' ' B ']]\n",
      "\n"
     ]
    }
   ],
   "source": [
    "import numpy as np\n",
    "\n",
    "debug = False\n",
    "wsName = 'WordSearch.txt'\n",
    "words = ['Dance', 'Guitar']\n",
    "\n",
    "directions = np.array([[[x, y] for y in range(-1, 2)] for x in range(-1, 2)]).ravel().reshape((9, 2))\n",
    "if debug: print(directions)\n",
    "\n",
    "# Defining the Puzzle\n",
    "wordSearch = open(wsName, 'r')\n",
    "lines = [list(x.lower().strip()) for x in wordSearch.readlines()]\n",
    "wordSearch.close()\n",
    "puzzle = np.array(lines)\n",
    "puzzle = np.char.upper(puzzle)\n",
    "if debug: print(puzzle)\n",
    "\n",
    "# Finding Words\n",
    "\n",
    "for word in words:\n",
    "    word = word.upper()\n",
    "    start = np.array(np.where(puzzle == word[0]))\n",
    "    if debug: print(start, start + directions[0].reshape(2,1), sep='\\n')\n",
    "\n",
    "    outcome = []\n",
    "\n",
    "    for direction in directions:\n",
    "        direction = direction.reshape(2, 1)\n",
    "        ins = np.array([start + (direction * x) for x in range(len(word))])\n",
    "        outs = np.array([puzzle[tuple(ind % 12)] for ind in ins])\n",
    "        if debug: print(ins, outs, sep='\\n\\n', end='\\n\\n\\n')\n",
    "        if debug: print()\n",
    "        for x in range(len(outs[0])):\n",
    "            out = ''.join(outs[:,x])\n",
    "            if out == word:\n",
    "                if debug: print(out, x)\n",
    "                if debug: print(ins)\n",
    "                outcome = [ins[:,0,x], ins[:,1,x]] # Row 0 = Y; Row 1 = X\n",
    "                break\n",
    "        \n",
    "        \n",
    "    spaces = np.array(list(' ' * len(puzzle.ravel())))\n",
    "    spaces = spaces.reshape(puzzle.shape)    \n",
    "    puzzle_out = np.char.add(np.char.add(spaces, puzzle), spaces)\n",
    "    puzzle_out[outcome] = ['[' + x + ']' for x in word]\n",
    "    \n",
    "    print(outcome)\n",
    "    print(puzzle_out[outcome])\n",
    "    print(puzzle_out)\n",
    "    print()"
   ]
  },
  {
   "cell_type": "code",
   "execution_count": null,
   "metadata": {
    "collapsed": true
   },
   "outputs": [],
   "source": []
  }
 ],
 "metadata": {
  "kernelspec": {
   "display_name": "Python 3",
   "language": "python",
   "name": "python3"
  },
  "language_info": {
   "codemirror_mode": {
    "name": "ipython",
    "version": 3
   },
   "file_extension": ".py",
   "mimetype": "text/x-python",
   "name": "python",
   "nbconvert_exporter": "python",
   "pygments_lexer": "ipython3",
   "version": "3.6.1"
  }
 },
 "nbformat": 4,
 "nbformat_minor": 2
}
